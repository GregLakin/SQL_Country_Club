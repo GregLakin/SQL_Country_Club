{
 "cells": [
  {
   "cell_type": "code",
   "execution_count": 1,
   "id": "1be11a0b",
   "metadata": {},
   "outputs": [],
   "source": [
    "import sqlite3\n"
   ]
  },
  {
   "cell_type": "code",
   "execution_count": 2,
   "id": "432035a9",
   "metadata": {},
   "outputs": [],
   "source": [
    "\"\"\"Sqlite3: Load file, execute query, print dictionary with keys (columns from SQL tables) and values  \"\"\"\n",
    "\n",
    "def Sqlite_Load(file,query='query1'):\n",
    "    conn =sqlite3.connect(file)\n",
    "    conn.row_factory = sqlite3.Row\n",
    "    cur=conn.cursor()\n",
    "    cur.execute(query1)\n",
    "    rows = cur.fetchall()\n",
    "    for row in rows:\n",
    "        print(dict(row))\n",
    "    conn.close()"
   ]
  },
  {
   "cell_type": "code",
   "execution_count": 3,
   "id": "7e9d3f40",
   "metadata": {},
   "outputs": [
    {
     "name": "stdout",
     "output_type": "stream",
     "text": [
      "{'Location': 'Pool Table', 'Revenue': 270}\n",
      "{'Location': 'Snooker Table', 'Revenue': 240}\n",
      "{'Location': 'Table Tennis', 'Revenue': 180}\n"
     ]
    }
   ],
   "source": [
    "'''Q10: Produce a list of facilities with a total revenue less than 1000.\n",
    "The output of facility name and total revenue, sorted by revenue. Remember\n",
    "that there's a different cost for guests and members!'''\n",
    "\n",
    "query1 = \"\"\"\n",
    "        SELECT\n",
    "\tLOW.Location AS Location,\n",
    "\tLOW.Revenue AS Revenue\n",
    "FROM\n",
    "\t(Select\n",
    "\t\tSub.Facility as Location,\n",
    "\t\tSum(Sub.Extended_Price) as Revenue\n",
    "\tFROM\n",
    "\t\t(SELECT\n",
    "\t\t\tF.name AS Facility,\n",
    "\t\t\tCASE WHEN B.memid =0 THEN (B.slots*F.guestcost)\n",
    "\t\t\t\tELSE (B.slots*F.membercost)END as Extended_Price\n",
    "\t\tFROM `Bookings` B\n",
    "\t\t\tINNER JOIN Facilities F ON F.facid = B.facid\n",
    "\t\t\tINNER JOIN Members M ON M.memid = B.memid ) as Sub\n",
    "GROUP BY\n",
    "\t\tSub.Facility ) as LOW\n",
    "WHERE LOW.Revenue < 1000 \n",
    "\n",
    "ORDER BY LOW.Revenue DESC \"\"\"\n",
    "\n",
    "file = 'sqlite_db_pythonsqlite.db'\n",
    "\n",
    "Sqlite_Load(file,query=query1)"
   ]
  },
  {
   "cell_type": "code",
   "execution_count": 4,
   "id": "6bfe701e",
   "metadata": {},
   "outputs": [
    {
     "name": "stdout",
     "output_type": "stream",
     "text": [
      "{'nominated': 'Bader, Florence', 'nominator': 'Stibbons, Ponder'}\n",
      "{'nominated': 'Baker, Anne', 'nominator': 'Stibbons, Ponder'}\n",
      "{'nominated': 'Baker, Timothy', 'nominator': 'Farrell, Jemima'}\n",
      "{'nominated': 'Boothe, Tim', 'nominator': 'Rownam, Tim'}\n",
      "{'nominated': 'Butters, Gerald', 'nominator': 'Smith, Darren'}\n",
      "{'nominated': 'Coplin, Joan', 'nominator': 'Baker, Timothy'}\n",
      "{'nominated': 'Crumpet, Erica', 'nominator': 'Smith, Tracy'}\n",
      "{'nominated': 'Dare, Nancy', 'nominator': 'Joplette, Janice'}\n",
      "{'nominated': 'Genting, Matthew', 'nominator': 'Butters, Gerald'}\n",
      "{'nominated': 'Hunt, John', 'nominator': 'Purview, Millicent'}\n",
      "{'nominated': 'Jones, David', 'nominator': 'Joplette, Janice'}\n",
      "{'nominated': 'Jones, Douglas', 'nominator': 'Jones, David'}\n",
      "{'nominated': 'Joplette, Janice', 'nominator': 'Smith, Darren'}\n",
      "{'nominated': 'Mackenzie, Anna', 'nominator': 'Smith, Darren'}\n",
      "{'nominated': 'Owen, Charles', 'nominator': 'Smith, Darren'}\n",
      "{'nominated': 'Pinker, David', 'nominator': 'Farrell, Jemima'}\n",
      "{'nominated': 'Purview, Millicent', 'nominator': 'Smith, Tracy'}\n",
      "{'nominated': 'Rumney, Henrietta', 'nominator': 'Genting, Matthew'}\n",
      "{'nominated': 'Sarwin, Ramnaresh', 'nominator': 'Bader, Florence'}\n",
      "{'nominated': 'Smith, Jack', 'nominator': 'Smith, Darren'}\n",
      "{'nominated': 'Stibbons, Ponder', 'nominator': 'Tracy, Burton'}\n",
      "{'nominated': 'Worthington-Smyth, Henry', 'nominator': 'Smith, Tracy'}\n"
     ]
    }
   ],
   "source": [
    "'''Q11: Produce a report of members and who recommended them in alphabetic surname,firstname order'''\n",
    "\n",
    "query1 = \"\"\"\n",
    "        SELECT\n",
    "NOM.nominated,\n",
    "NOM.nominator\n",
    "\n",
    "FROM\n",
    "\t(SELECT\n",
    "\t\t M1.surname ||', '|| M1.firstname as nominated,\n",
    "\t\tInitiator.Invitor as nominator\n",
    "\tFROM\n",
    "\t\t(Select\n",
    "\t\t\tM.surname ||', '|| M.firstname as Invitor ,\n",
    "\t\t\tM.memid,\n",
    "\t\t\tSub1.recommendorID\n",
    "\t\tFROM\n",
    "\t\t\t(SELECT Distinct recommendedby as recommendorID FROM `Members`) As Sub1\n",
    "\t\t  \t INNER JOIN `Members` M on M.memid = Sub1.recommendorID) As Initiator\n",
    "\t\t INNER JOIN `Members` M1 on M1.recommendedby = Initiator.recommendorID\n",
    "WHERE Initiator.Invitor != 'GUEST, GUEST') AS NOM\n",
    "ORDER BY NOM.nominated        \"\"\"\n",
    "\n",
    "file = 'sqlite_db_pythonsqlite.db'\n",
    "\n",
    "Sqlite_Load(file,query=query1)"
   ]
  },
  {
   "cell_type": "code",
   "execution_count": 5,
   "id": "1247af29",
   "metadata": {},
   "outputs": [
    {
     "name": "stdout",
     "output_type": "stream",
     "text": [
      "{'Facility': 'Massage Room 1', 'Member_Hours': 442.0}\n",
      "{'Facility': 'Snooker Table', 'Member_Hours': 430.0}\n",
      "{'Facility': 'Table Tennis', 'Member_Hours': 397.0}\n",
      "{'Facility': 'Badminton Court', 'Member_Hours': 379.0}\n",
      "{'Facility': 'Tennis Court 1', 'Member_Hours': 329.0}\n",
      "{'Facility': 'Tennis Court 2', 'Member_Hours': 311.0}\n",
      "{'Facility': 'Squash Court', 'Member_Hours': 209.0}\n",
      "{'Facility': 'Pool Table', 'Member_Hours': 66.0}\n",
      "{'Facility': 'Massage Room 2', 'Member_Hours': 27.0}\n"
     ]
    }
   ],
   "source": [
    "'''Q12: Find the facilities with their usage by member, but not guests '''\n",
    "\n",
    "query1 = \"\"\"\n",
    "        SELECT \n",
    "\tF.name as Facility,\n",
    "\tROUND (Sum(B.slots/2) ,2) AS Member_Hours \n",
    "FROM `Bookings` B\n",
    "\tINNER JOIN `Facilities` F on F.facid = B.facid\n",
    "WHERE memid !=0 \n",
    "GROUP BY F.name\n",
    "ORDER BY ROUND (Sum(B.slots/2) ,2) DESC \"\"\"\n",
    "\n",
    "file = 'sqlite_db_pythonsqlite.db'\n",
    "\n",
    "Sqlite_Load(file,query=query1)"
   ]
  },
  {
   "cell_type": "code",
   "execution_count": 6,
   "id": "2cd877f4",
   "metadata": {},
   "outputs": [
    {
     "name": "stdout",
     "output_type": "stream",
     "text": [
      "{'Month_of_Use': '09/2012', 'Facility': 'Snooker Table', 'Member_Hours': 202.0}\n",
      "{'Month_of_Use': '09/2012', 'Facility': 'Massage Room 1', 'Member_Hours': 201.0}\n",
      "{'Month_of_Use': '09/2012', 'Facility': 'Table Tennis', 'Member_Hours': 200.0}\n",
      "{'Month_of_Use': '09/2012', 'Facility': 'Badminton Court', 'Member_Hours': 177.0}\n",
      "{'Month_of_Use': '09/2012', 'Facility': 'Tennis Court 2', 'Member_Hours': 150.0}\n",
      "{'Month_of_Use': '09/2012', 'Facility': 'Tennis Court 1', 'Member_Hours': 146.0}\n",
      "{'Month_of_Use': '09/2012', 'Facility': 'Squash Court', 'Member_Hours': 92.0}\n",
      "{'Month_of_Use': '09/2012', 'Facility': 'Pool Table', 'Member_Hours': 34.0}\n",
      "{'Month_of_Use': '09/2012', 'Facility': 'Massage Room 2', 'Member_Hours': 14.0}\n",
      "{'Month_of_Use': '08/2012', 'Facility': 'Massage Room 1', 'Member_Hours': 158.0}\n",
      "{'Month_of_Use': '08/2012', 'Facility': 'Snooker Table', 'Member_Hours': 158.0}\n",
      "{'Month_of_Use': '08/2012', 'Facility': 'Table Tennis', 'Member_Hours': 148.0}\n",
      "{'Month_of_Use': '08/2012', 'Facility': 'Badminton Court', 'Member_Hours': 143.0}\n",
      "{'Month_of_Use': '08/2012', 'Facility': 'Tennis Court 2', 'Member_Hours': 120.0}\n",
      "{'Month_of_Use': '08/2012', 'Facility': 'Tennis Court 1', 'Member_Hours': 115.0}\n",
      "{'Month_of_Use': '08/2012', 'Facility': 'Squash Court', 'Member_Hours': 92.0}\n",
      "{'Month_of_Use': '08/2012', 'Facility': 'Pool Table', 'Member_Hours': 26.0}\n",
      "{'Month_of_Use': '08/2012', 'Facility': 'Massage Room 2', 'Member_Hours': 9.0}\n",
      "{'Month_of_Use': '07/2012', 'Facility': 'Massage Room 1', 'Member_Hours': 83.0}\n",
      "{'Month_of_Use': '07/2012', 'Facility': 'Snooker Table', 'Member_Hours': 70.0}\n",
      "{'Month_of_Use': '07/2012', 'Facility': 'Tennis Court 1', 'Member_Hours': 68.0}\n",
      "{'Month_of_Use': '07/2012', 'Facility': 'Badminton Court', 'Member_Hours': 59.0}\n",
      "{'Month_of_Use': '07/2012', 'Facility': 'Table Tennis', 'Member_Hours': 49.0}\n",
      "{'Month_of_Use': '07/2012', 'Facility': 'Tennis Court 2', 'Member_Hours': 41.0}\n",
      "{'Month_of_Use': '07/2012', 'Facility': 'Squash Court', 'Member_Hours': 25.0}\n",
      "{'Month_of_Use': '07/2012', 'Facility': 'Pool Table', 'Member_Hours': 6.0}\n",
      "{'Month_of_Use': '07/2012', 'Facility': 'Massage Room 2', 'Member_Hours': 4.0}\n"
     ]
    }
   ],
   "source": [
    "'''Q13: Find the facilities usage by month, but not guests '''\n",
    "\n",
    "query1 = \"\"\"\n",
    "        SELECT \n",
    "\tstrftime ( '%m',B.starttime)||'/'|| strftime ('%Y',B.starttime) AS Month_of_Use,\n",
    "\tF.name as Facility,\n",
    "\tROUND (Sum(B.slots/2) ,2) AS Member_Hours \n",
    "FROM `Bookings` B\n",
    "\tINNER JOIN `Facilities` F on F.facid = B.facid\n",
    "WHERE memid !=0 \n",
    "GROUP BY \n",
    "\tstrftime ( '%m',B.starttime)||'/'|| strftime ('%Y',B.starttime),\n",
    "\tF.name,\n",
    "\tstrftime ( '%m',B.starttime)\n",
    "ORDER BY \n",
    "\tstrftime ( '%m',B.starttime)||'/'|| strftime ('%Y',B.starttime) DESC,\n",
    "\tROUND (Sum(B.slots/2) ,2) DESC\n",
    " \"\"\"\n",
    "file = 'sqlite_db_pythonsqlite.db'\n",
    "\n",
    "Sqlite_Load(file,query=query1)"
   ]
  }
 ],
 "metadata": {
  "kernelspec": {
   "display_name": "Python 3",
   "language": "python",
   "name": "python3"
  },
  "language_info": {
   "codemirror_mode": {
    "name": "ipython",
    "version": 3
   },
   "file_extension": ".py",
   "mimetype": "text/x-python",
   "name": "python",
   "nbconvert_exporter": "python",
   "pygments_lexer": "ipython3",
   "version": "3.8.8"
  }
 },
 "nbformat": 4,
 "nbformat_minor": 5
}
